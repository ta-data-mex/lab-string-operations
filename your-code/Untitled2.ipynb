{
 "cells": [
  {
   "cell_type": "code",
   "execution_count": 15,
   "id": "006df64d",
   "metadata": {},
   "outputs": [
    {
     "ename": "SyntaxError",
     "evalue": "invalid syntax (Temp/ipykernel_5880/3706619608.py, line 8)",
     "output_type": "error",
     "traceback": [
      "\u001b[1;36m  File \u001b[1;32m\"C:\\Users\\JUANCA~1\\AppData\\Local\\Temp/ipykernel_5880/3706619608.py\"\u001b[1;36m, line \u001b[1;32m8\u001b[0m\n\u001b[1;33m    print(longitud)\u001b[0m\n\u001b[1;37m    ^\u001b[0m\n\u001b[1;31mSyntaxError\u001b[0m\u001b[1;31m:\u001b[0m invalid syntax\n"
     ]
    }
   ],
   "source": [
    "import re\n",
    "data = ['123abc', 'abc123', 'JohnSmith1', 'ABBY4', 'JANE']\n",
    "\n",
    "for word in data:\n",
    "    print(word)\n",
    "    if re.search(r'[d\\]', word):\n",
    "        longitud= len(re.search(r'[\\d]+', word[0])\n",
    "        print(longitud)"
   ]
  },
  {
   "cell_type": "code",
   "execution_count": 16,
   "id": "c53a7bc1",
   "metadata": {},
   "outputs": [
    {
     "name": "stdout",
     "output_type": "stream",
     "text": [
      "['123abc', 'abc123', 'JohnSmith1', 'ABBY4']\n"
     ]
    }
   ],
   "source": [
    "data = ['123abc', 'abc123', 'JohnSmith1', 'ABBY4', 'JANE']\n",
    "\n",
    "# Your code here:\n",
    "contains_number = [x for x in data if re.search(\"[0-9]\", x)]\n",
    "print(contains_number)"
   ]
  },
  {
   "cell_type": "code",
   "execution_count": 21,
   "id": "fa938583",
   "metadata": {},
   "outputs": [
    {
     "name": "stdout",
     "output_type": "stream",
     "text": [
      "['123abc', 'abc123', 'JohnSmith1', 'ABBY4']\n"
     ]
    }
   ],
   "source": [
    "contains_number=[]\n",
    "\n",
    "for i in data:\n",
    "    if re.search(\"[0-9]\", i):\n",
    "        contains_number.append(i)\n",
    "print(contains_number)"
   ]
  }
 ],
 "metadata": {
  "kernelspec": {
   "display_name": "Python 3 (ipykernel)",
   "language": "python",
   "name": "python3"
  },
  "language_info": {
   "codemirror_mode": {
    "name": "ipython",
    "version": 3
   },
   "file_extension": ".py",
   "mimetype": "text/x-python",
   "name": "python",
   "nbconvert_exporter": "python",
   "pygments_lexer": "ipython3",
   "version": "3.9.7"
  }
 },
 "nbformat": 4,
 "nbformat_minor": 5
}
