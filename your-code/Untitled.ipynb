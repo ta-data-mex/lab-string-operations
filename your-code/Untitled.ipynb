{
 "cells": [
  {
   "cell_type": "markdown",
   "id": "cf8e5071",
   "metadata": {},
   "source": [
    "###Programacion Procedimental"
   ]
  },
  {
   "cell_type": "code",
   "execution_count": 4,
   "id": "03e153e7",
   "metadata": {},
   "outputs": [
    {
     "name": "stdout",
     "output_type": "stream",
     "text": [
      "4 9\n"
     ]
    }
   ],
   "source": [
    "a = [1, 2, 3, 4]\n",
    "\n",
    "b = [2, 4, 6, 9]\n",
    "\n",
    "for i, j in zip(a,b):\n",
    "    if i%2==0 and j%2==1:\n",
    "        print(i,j)"
   ]
  },
  {
   "cell_type": "markdown",
   "id": "4230673c",
   "metadata": {},
   "source": [
    "##Funciones\n",
    "\n",
    "Es una secuencia de funciones que realizan una tarea. Están agrupadas en una unidad que puede ser importada y usada cuando se necesite"
   ]
  },
  {
   "cell_type": "code",
   "execution_count": 8,
   "id": "3720f5c9",
   "metadata": {},
   "outputs": [],
   "source": [
    "def nombre_de_mi_funcion(): #\n",
    "    print('Hello World!')\n",
    "    "
   ]
  },
  {
   "cell_type": "code",
   "execution_count": 10,
   "id": "f64689f5",
   "metadata": {},
   "outputs": [
    {
     "name": "stdout",
     "output_type": "stream",
     "text": [
      "Hello World!\n"
     ]
    }
   ],
   "source": [
    "nombre_de_mi_funcion()"
   ]
  },
  {
   "cell_type": "code",
   "execution_count": 11,
   "id": "3205c0a9",
   "metadata": {},
   "outputs": [
    {
     "name": "stdout",
     "output_type": "stream",
     "text": [
      "Hello World!\n",
      "None\n"
     ]
    }
   ],
   "source": [
    "resultado_de_la_funcion = nombre_de_mi_funcion()\n",
    "print(resultado_de_la_funcion)"
   ]
  },
  {
   "cell_type": "markdown",
   "id": "f5568a05",
   "metadata": {},
   "source": [
    "hjhj"
   ]
  },
  {
   "cell_type": "code",
   "execution_count": null,
   "id": "579cb94a",
   "metadata": {},
   "outputs": [],
   "source": [
    "limpieza_de_bd(BD)"
   ]
  },
  {
   "cell_type": "code",
   "execution_count": null,
   "id": "0736dcf9",
   "metadata": {},
   "outputs": [],
   "source": [
    "def limpieza_de_bd(base de datos):\n",
    "    datos = traer datos(base_de_datos)\n",
    "    datos_filtrados = filtrar_datos(datos)\n",
    "    datos_limpios = limpieza_de_texto(datos_filtrados)\n",
    "    return datos_limpios"
   ]
  },
  {
   "cell_type": "markdown",
   "id": "64e5aa34",
   "metadata": {},
   "source": [
    "*argumentos posicionales*"
   ]
  },
  {
   "cell_type": "code",
   "execution_count": 16,
   "id": "edda3460",
   "metadata": {},
   "outputs": [
    {
     "name": "stdout",
     "output_type": "stream",
     "text": [
      "2 4 6\n",
      "a b c\n"
     ]
    },
    {
     "ename": "TypeError",
     "evalue": "mi_funcion() missing 2 required positional arguments: 'b' and 'c'",
     "output_type": "error",
     "traceback": [
      "\u001b[0;31m---------------------------------------------------------------------------\u001b[0m",
      "\u001b[0;31mTypeError\u001b[0m                                 Traceback (most recent call last)",
      "\u001b[0;32m<ipython-input-16-36bf169c9d67>\u001b[0m in \u001b[0;36m<module>\u001b[0;34m\u001b[0m\n\u001b[1;32m      4\u001b[0m \u001b[0mmi_funcion\u001b[0m\u001b[0;34m(\u001b[0m\u001b[0;36m2\u001b[0m\u001b[0;34m,\u001b[0m \u001b[0;36m4\u001b[0m\u001b[0;34m,\u001b[0m \u001b[0;36m6\u001b[0m\u001b[0;34m)\u001b[0m    \u001b[0;31m#sino se colocan los elementos suficientes va a marcar error\u001b[0m\u001b[0;34m\u001b[0m\u001b[0;34m\u001b[0m\u001b[0m\n\u001b[1;32m      5\u001b[0m \u001b[0mmi_funcion\u001b[0m\u001b[0;34m(\u001b[0m\u001b[0;34m'a'\u001b[0m\u001b[0;34m,\u001b[0m\u001b[0;34m'b'\u001b[0m\u001b[0;34m,\u001b[0m\u001b[0;34m'c'\u001b[0m\u001b[0;34m)\u001b[0m\u001b[0;34m\u001b[0m\u001b[0;34m\u001b[0m\u001b[0m\n\u001b[0;32m----> 6\u001b[0;31m \u001b[0mmi_funcion\u001b[0m\u001b[0;34m(\u001b[0m\u001b[0;36m1\u001b[0m\u001b[0;34m)\u001b[0m\u001b[0;34m\u001b[0m\u001b[0;34m\u001b[0m\u001b[0m\n\u001b[0m",
      "\u001b[0;31mTypeError\u001b[0m: mi_funcion() missing 2 required positional arguments: 'b' and 'c'"
     ]
    }
   ],
   "source": [
    "def mi_funcion(a, b, c):\n",
    "    print(a, b, c)\n",
    "    \n",
    "mi_funcion(2, 4, 6)    #sino se colocan los elementos suficientes va a marcar error\n",
    "mi_funcion('a','b','c')\n",
    "mi_funcion(1)"
   ]
  },
  {
   "cell_type": "markdown",
   "id": "d4a10fd9",
   "metadata": {},
   "source": [
    "*argumentos clave*\n",
    "\n"
   ]
  },
  {
   "cell_type": "code",
   "execution_count": 18,
   "id": "eb119185",
   "metadata": {},
   "outputs": [
    {
     "name": "stdout",
     "output_type": "stream",
     "text": [
      "2 4 6\n"
     ]
    }
   ],
   "source": [
    "def mi_funcion(a, b, c):\n",
    "    print(a, b, c)\n",
    "\n",
    "mi_funcion(a=2, b=4, c=6)"
   ]
  },
  {
   "cell_type": "code",
   "execution_count": 19,
   "id": "fd63d961",
   "metadata": {},
   "outputs": [
    {
     "name": "stdout",
     "output_type": "stream",
     "text": [
      "2 4 6\n"
     ]
    }
   ],
   "source": [
    "mi_funcion(b=4, c=6, a=2)"
   ]
  },
  {
   "cell_type": "code",
   "execution_count": 21,
   "id": "5decd3d7",
   "metadata": {},
   "outputs": [
    {
     "name": "stdout",
     "output_type": "stream",
     "text": [
      "9 42 30\n"
     ]
    }
   ],
   "source": [
    "def mi_funcion(a, b=42, c=30):\n",
    "    print(a, b, c)\n",
    "    \n",
    "mi_funcion(9)"
   ]
  },
  {
   "cell_type": "code",
   "execution_count": 22,
   "id": "c2b4dda1",
   "metadata": {},
   "outputs": [
    {
     "name": "stdout",
     "output_type": "stream",
     "text": [
      "9 10 15\n"
     ]
    }
   ],
   "source": [
    "mi_funcion(9, 10, 15)\n"
   ]
  },
  {
   "cell_type": "code",
   "execution_count": 23,
   "id": "1353764c",
   "metadata": {},
   "outputs": [
    {
     "name": "stdout",
     "output_type": "stream",
     "text": [
      "8 16 70\n"
     ]
    }
   ],
   "source": [
    "mi_funcion(c=70, a=8, b=16)"
   ]
  },
  {
   "cell_type": "markdown",
   "id": "087f055e",
   "metadata": {},
   "source": [
    "*variable keyword arguments*"
   ]
  },
  {
   "cell_type": "code",
   "execution_count": 25,
   "id": "b802589e",
   "metadata": {},
   "outputs": [
    {
     "name": "stdout",
     "output_type": "stream",
     "text": [
      "((1, 2, 3, 4, 5),)\n"
     ]
    }
   ],
   "source": [
    "def funcion(*args): #cantidad variable de argumentos\n",
    "    print(args)\n",
    "    \n",
    "valores = (1, 2, 3, 4, 5)\n",
    "\n",
    "funcion(valores)\n"
   ]
  },
  {
   "cell_type": "code",
   "execution_count": 27,
   "id": "754cad4d",
   "metadata": {},
   "outputs": [
    {
     "name": "stdout",
     "output_type": "stream",
     "text": [
      "(1, 2, 3, 4, 5)\n"
     ]
    }
   ],
   "source": [
    "funcion(*valores)  # * extraer cada uno de los valores"
   ]
  },
  {
   "cell_type": "code",
   "execution_count": 28,
   "id": "1200adc8",
   "metadata": {},
   "outputs": [
    {
     "name": "stdout",
     "output_type": "stream",
     "text": [
      "(1, 2, 3, 4, 5)\n"
     ]
    }
   ],
   "source": [
    "funcion (1, 2, 3, 4, 5)"
   ]
  },
  {
   "cell_type": "markdown",
   "id": "8450b21a",
   "metadata": {},
   "source": [
    "*variable keyword arguments*"
   ]
  },
  {
   "cell_type": "code",
   "execution_count": 32,
   "id": "f014ea2e",
   "metadata": {},
   "outputs": [
    {
     "name": "stdout",
     "output_type": "stream",
     "text": [
      "{'a': 1, 'b': 2}\n"
     ]
    }
   ],
   "source": [
    "def funcion (**kwargs):\n",
    "    print(kwargs)\n",
    "    \n",
    "diccionario = {'a':1,'b':2}\n",
    "\n",
    "funcion(**diccionario)\n",
    "\n"
   ]
  },
  {
   "cell_type": "code",
   "execution_count": 33,
   "id": "a4226a1d",
   "metadata": {},
   "outputs": [
    {
     "name": "stdout",
     "output_type": "stream",
     "text": [
      "{'a': 1, 'b': 2}\n"
     ]
    }
   ],
   "source": [
    "funcion(**{'a':1, 'b':2})"
   ]
  },
  {
   "cell_type": "code",
   "execution_count": 34,
   "id": "228069df",
   "metadata": {},
   "outputs": [
    {
     "name": "stdout",
     "output_type": "stream",
     "text": [
      "{'a': 1, 'b': 2, 'c': 3, 'd': 4}\n"
     ]
    }
   ],
   "source": [
    "funcion(a=1, b=2, c=3, d=4)"
   ]
  },
  {
   "cell_type": "code",
   "execution_count": 36,
   "id": "cbc1cd90",
   "metadata": {},
   "outputs": [],
   "source": [
    "def conexion(**options):\n",
    "    conn_params = {\n",
    "        'host': options.get('host', '127.0.0.1'),\n",
    "        'port': options.get('port', 5432),\n",
    "        'user': options.get('user', ''),\n",
    "        'pwd': options.get('pwd', '')\n",
    "    }\n",
    "    \n",
    "    print(conn_params)"
   ]
  },
  {
   "cell_type": "code",
   "execution_count": 37,
   "id": "397dbdd1",
   "metadata": {},
   "outputs": [
    {
     "name": "stdout",
     "output_type": "stream",
     "text": [
      "{'host': '127.0.0.1', 'port': 5432, 'user': '', 'pwd': ''}\n"
     ]
    }
   ],
   "source": [
    "conexion()"
   ]
  },
  {
   "cell_type": "code",
   "execution_count": null,
   "id": "af612eae",
   "metadata": {},
   "outputs": [],
   "source": []
  },
  {
   "cell_type": "code",
   "execution_count": 38,
   "id": "2b676f78",
   "metadata": {},
   "outputs": [],
   "source": [
    "def mi_funcion(df, k=3):\n",
    "    \"\"\"Regresa la suma de un df más k.\"\"\"\n",
    "    return df+k"
   ]
  },
  {
   "cell_type": "code",
   "execution_count": 39,
   "id": "38ee51ae",
   "metadata": {},
   "outputs": [
    {
     "data": {
      "text/plain": [
       "'Regresa la suma de un df más k.'"
      ]
     },
     "execution_count": 39,
     "metadata": {},
     "output_type": "execute_result"
    }
   ],
   "source": [
    "mi_funcion.__doc__ #lee lo que dice la funcion"
   ]
  },
  {
   "cell_type": "code",
   "execution_count": 40,
   "id": "8ffc9506",
   "metadata": {},
   "outputs": [],
   "source": [
    "def connect(host, port, user, password):\n",
    "    \"\"\"Connect to a database.\n",
    "    Connect to a PostgreSQL database directly, using the given\n",
    "    parameters.\n",
    "    :param host: The host IP.\n",
    "    :param port: The desired port.\n",
    "    :param user: The connection username.\n",
    "    :param password: The connection password.\n",
    "    :return: The connection object.\n",
    "    \"\"\"\n",
    "    conn_params = {\n",
    "        'host': options.get('host', '127.0.0.1'),\n",
    "        'port': options.get('port', 5432),\n",
    "        'user': options.get('user', ''),\n",
    "        'pwd': options.get('pwd', '')\n",
    "    }\n",
    "    \n",
    "    pass"
   ]
  },
  {
   "cell_type": "code",
   "execution_count": 41,
   "id": "3078ff98",
   "metadata": {},
   "outputs": [
    {
     "data": {
      "text/plain": [
       "'Connect to a database.\\n    Connect to a PostgreSQL database directly, using the given\\n    parameters.\\n    :param host: The host IP.\\n    :param port: The desired port.\\n    :param user: The connection username.\\n    :param password: The connection password.\\n    :return: The connection object.\\n    '"
      ]
     },
     "execution_count": 41,
     "metadata": {},
     "output_type": "execute_result"
    }
   ],
   "source": [
    "connect.__doc__"
   ]
  },
  {
   "cell_type": "markdown",
   "id": "3b585b29",
   "metadata": {},
   "source": [
    "###Recursividad"
   ]
  },
  {
   "cell_type": "code",
   "execution_count": 42,
   "id": "aa7b1ffd",
   "metadata": {},
   "outputs": [
    {
     "data": {
      "text/plain": [
       "120"
      ]
     },
     "execution_count": 42,
     "metadata": {},
     "output_type": "execute_result"
    }
   ],
   "source": [
    "#factorial\n",
    "\n",
    "#5\n",
    "\n",
    "5*4*3*2*1"
   ]
  },
  {
   "cell_type": "code",
   "execution_count": 44,
   "id": "797bfb7b",
   "metadata": {},
   "outputs": [],
   "source": [
    "def factorial(n):\n",
    "\n",
    "    ### Caso base\n",
    "    if n ==1:\n",
    "        return 1\n",
    "    \n",
    "    ##caso de la recursividad\n",
    "    else:\n",
    "        return n*factorial(n-1)"
   ]
  },
  {
   "cell_type": "code",
   "execution_count": null,
   "id": "8f636a5b",
   "metadata": {},
   "outputs": [],
   "source": []
  }
 ],
 "metadata": {
  "kernelspec": {
   "display_name": "Python 3",
   "language": "python",
   "name": "python3"
  },
  "language_info": {
   "codemirror_mode": {
    "name": "ipython",
    "version": 3
   },
   "file_extension": ".py",
   "mimetype": "text/x-python",
   "name": "python",
   "nbconvert_exporter": "python",
   "pygments_lexer": "ipython3",
   "version": "3.8.8"
  }
 },
 "nbformat": 4,
 "nbformat_minor": 5
}
