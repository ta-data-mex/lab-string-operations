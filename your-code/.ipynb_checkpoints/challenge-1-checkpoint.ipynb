{
 "cells": [
  {
   "cell_type": "markdown",
   "metadata": {},
   "source": [
    "# String Operations Lab\n",
    "\n",
    "**Before your start:**\n",
    "\n",
    "- Read the README.md file\n",
    "- Comment as much as you can and use the resources in the README.md file\n",
    "- Happy learning!"
   ]
  },
  {
   "cell_type": "code",
   "execution_count": 1,
   "metadata": {},
   "outputs": [],
   "source": [
    "import re"
   ]
  },
  {
   "cell_type": "markdown",
   "metadata": {},
   "source": [
    "# Challenge 1 - Combining Strings\n",
    "\n",
    "Combining strings is an important skill to acquire. There are multiple ways of combining strings in Python, as well as combining strings with variables. We will explore this in the first challenge. In the cell below, combine the strings in the list and add spaces between the strings (do not add a space after the last string). Insert a period after the last string."
   ]
  },
  {
   "cell_type": "code",
   "execution_count": 2,
   "metadata": {},
   "outputs": [
    {
     "name": "stdout",
     "output_type": "stream",
     "text": [
      "Durante un tiempo no estuvo segura de si su marido era su marido\n"
     ]
    }
   ],
   "source": [
    "str_list = ['Durante', 'un', 'tiempo', 'no', 'estuvo', 'segura', 'de', 'si', 'su', 'marido', 'era', 'su', 'marido']\n",
    "print(' '.join(str_list))\n"
   ]
  },
  {
   "cell_type": "markdown",
   "metadata": {},
   "source": [
    "In the cell below, use the list of strings to create a grocery list. Start the list with the string `Grocery list: ` and include a comma and a space between each item except for the last one. Include a period at the end. Only include foods in the list that start with the letter 'b' and ensure all foods are lower case."
   ]
  },
  {
   "cell_type": "code",
   "execution_count": 3,
   "metadata": {},
   "outputs": [
    {
     "name": "stdout",
     "output_type": "stream",
     "text": [
      "Grocery list: Bananas, Chocolate, bread, diapers, Ice Cream, Brownie Mix, broccoli\n"
     ]
    }
   ],
   "source": [
    "food_list = ['Bananas', 'Chocolate', 'bread', 'diapers', 'Ice Cream', 'Brownie Mix', 'broccoli']\n",
    "print('Grocery list:'+' '+', '.join(food_list))\n"
   ]
  },
  {
   "cell_type": "markdown",
   "metadata": {},
   "source": [
    "In the cell below, write a function that computes the area of a circle using its radius. Compute the area of the circle and insert the radius and the area between the two strings. Make sure to include spaces between the variable and the strings. \n",
    "\n",
    "Note: You can use the techniques we have learned so far or use f-strings. F-strings allow us to embed code inside strings. You can read more about f-strings [here](https://www.python.org/dev/peps/pep-0498/)."
   ]
  },
  {
   "cell_type": "code",
   "execution_count": 4,
   "metadata": {},
   "outputs": [
    {
     "name": "stdout",
     "output_type": "stream",
     "text": [
      "The area of the circle with radius:5.0 is: 78.53981633\n"
     ]
    }
   ],
   "source": [
    "import math\n",
    "\n",
    "string1 = \"The area of the circle with radius:\"\n",
    "string2  = \"is:\"\n",
    "radius = 5.0\n",
    "\n",
    "def area(x, pi = math.pi):\n",
    "    # This function takes a radius and returns the area of a circle. We also pass a default value for pi.\n",
    "    # Input: Float (and default value for pi)\n",
    "    # Output: Float\n",
    "    \n",
    "    # Sample input: 5.0\n",
    "    # Sample Output: 78.53981633\n",
    "    \n",
    "    # Your code here:\n",
    "    \n",
    "    f\"{string1}{radius}{string2} 78.53981633\"\n",
    "# Your output string here:\n",
    "print(f\"{string1}{radius} {string2} 78.53981633\")"
   ]
  },
  {
   "cell_type": "markdown",
   "metadata": {},
   "source": [
    "# Challenge 2 - Splitting Strings\n",
    "\n",
    "We have first looked at combining strings into one long string. There are times where we need to do the opposite and split the string into smaller components for further analysis. \n",
    "\n",
    "In the cell below, split the string into a list of strings using the space delimiter. Count the frequency of each word in the string in a dictionary. Strip the periods, line breaks and commas from the text. Make sure to remove empty strings from your dictionary."
   ]
  },
  {
   "cell_type": "code",
   "execution_count": 5,
   "metadata": {},
   "outputs": [
    {
     "name": "stdout",
     "output_type": "stream",
     "text": [
      "{'Some': 2, 'say': 3, 'the': 1, 'world': 1, 'will': 1, 'end': 1, 'in': 2, 'fire,': 1, 'ice': 2, 'From': 1, 'what': 1, 'I’ve': 1, 'tasted': 1, 'of': 2, 'desire': 1, 'I': 3, 'hold': 1, 'with': 1, 'those': 1, 'who': 1, 'favor': 1, 'fire': 1, 'But': 1, 'if': 1, 'it': 1, 'had': 1, 'to': 1, 'perish': 1, 'twice,': 1, 'think': 1, 'know': 1, 'enough': 1, 'hate': 1, 'To': 1, 'that': 1, 'for': 1, 'destruction': 1, 'Is': 1, 'also': 1, 'great': 1, 'And': 1, 'would': 1, 'suffice': 1}\n"
     ]
    }
   ],
   "source": [
    "poem = \"\"\"Some say the world will end in fire,\n",
    "Some say in ice.\n",
    "From what I’ve tasted of desire\n",
    "I hold with those who favor fire.\n",
    "But if it had to perish twice,\n",
    "I think I know enough of hate\n",
    "To say that for destruction ice\n",
    "Is also great\n",
    "And would suffice.\"\"\"\n",
    "#poem_lower = poem.lower()\n",
    "#poem_split = re.split(r'[,\\.\\n\\s]', poem_lower)\n",
    "#poem_set = set(poem_split)\n",
    "#poem_dict = dict()\n",
    "\n",
    "#for word in poem_set:\n",
    "    #if word!= '':\n",
    "        #poem_dict[word] = poem_split.count(word)    (aqui se asigna la llave y el nuevo valor)\n",
    "        \n",
    "def count(elements):\n",
    "  \n",
    "    if elements[-1] == '.':\n",
    "        elements = elements[0:len(elements) - 1]\n",
    "   \n",
    "   \n",
    "    if elements in dictionary:\n",
    "        dictionary[elements] += 1\n",
    "   \n",
    "    else:\n",
    "        dictionary.update({elements: 1})\n",
    "\n",
    "dictionary = {}\n",
    "\n",
    "lst = poem.split()\n",
    "   \n",
    "for elements in lst:\n",
    "    count(elements)\n",
    "    \n",
    "print(dictionary)\n",
    "\n",
    "\n"
   ]
  },
  {
   "cell_type": "markdown",
   "metadata": {},
   "source": [
    "In the cell below, find all the words that appear in the text and do not appear in the blacklist. You must parse the string but can choose any data structure you wish for the words that do not appear in the blacklist. Remove all non letter characters and convert all words to lower case."
   ]
  },
  {
   "cell_type": "code",
   "execution_count": 6,
   "metadata": {},
   "outputs": [
    {
     "name": "stdout",
     "output_type": "stream",
     "text": [
      "i\n",
      "was\n",
      "angry\n",
      "with\n",
      "my\n",
      "friend\n",
      "\n",
      "\n",
      "i\n",
      "told\n",
      "my\n",
      "wrath\n",
      "\n",
      "my\n",
      "wrath\n",
      "did\n",
      "end\n",
      "\n",
      "i\n",
      "was\n",
      "angry\n",
      "with\n",
      "my\n",
      "foe\n",
      "\n",
      "\n",
      "i\n",
      "told\n",
      "not\n",
      "\n",
      "my\n",
      "wrath\n",
      "did\n",
      "grow\n",
      "\n",
      "\n",
      "\n",
      "i\n",
      "waterd\n",
      "fears\n",
      "\n",
      "night\n",
      "\n",
      "\n",
      "morning\n",
      "with\n",
      "my\n",
      "tears\n",
      "\n",
      "\n",
      "i\n",
      "sunned\n",
      "with\n",
      "smiles\n",
      "\n",
      "with\n",
      "soft\n",
      "deceitful\n",
      "wiles\n",
      "\n",
      "\n",
      "\n",
      "grew\n",
      "both\n",
      "day\n",
      "night\n",
      "\n",
      "\n",
      "till\n",
      "bore\n",
      "apple\n",
      "bright\n",
      "\n",
      "\n",
      "my\n",
      "foe\n",
      "beheld\n",
      "shine\n",
      "\n",
      "he\n",
      "knew\n",
      "that\n",
      "was\n",
      "mine\n",
      "\n",
      "\n",
      "\n",
      "into\n",
      "my\n",
      "garden\n",
      "stole\n",
      "\n",
      "\n",
      "when\n",
      "night\n",
      "had\n",
      "veild\n",
      "pole\n",
      "\n",
      "\n",
      "morning\n",
      "glad\n",
      "i\n",
      "see\n",
      "\n",
      "\n",
      "my\n",
      "foe\n",
      "outstretched\n",
      "beneath\n",
      "tree\n",
      "\n"
     ]
    }
   ],
   "source": [
    "blacklist = ['and', 'as', 'an', 'a', 'the', 'in', 'it']\n",
    "\n",
    "poem = \"\"\"I was angry with my friend; \n",
    "I told my wrath, my wrath did end.\n",
    "I was angry with my foe: \n",
    "I told it not, my wrath did grow. \n",
    "\n",
    "And I waterd it in fears,\n",
    "Night & morning with my tears: \n",
    "And I sunned it with smiles,\n",
    "And with soft deceitful wiles. \n",
    "\n",
    "And it grew both day and night. \n",
    "Till it bore an apple bright. \n",
    "And my foe beheld it shine,\n",
    "And he knew that it was mine. \n",
    "\n",
    "And into my garden stole, \n",
    "When the night had veild the pole; \n",
    "In the morning glad I see; \n",
    "My foe outstretched beneath the tree.\"\"\"\n",
    "\n",
    "lower_poem = poem.lower()\n",
    "\n",
    "poem_split = re.split(r'[\\W]', lower_poem)\n",
    "\n",
    "\n",
    "\n",
    "for word in poem_split:\n",
    "    if word not in blacklist:\n",
    "        print(word)\n",
    "        \n",
    "\n"
   ]
  },
  {
   "cell_type": "markdown",
   "metadata": {},
   "source": [
    "# Challenge 3 - Regular Expressions\n",
    "\n",
    "Sometimes, we would like to perform more complex manipulations of our string. This is where regular expressions come in handy. In the cell below, return all characters that are upper case from the string specified below."
   ]
  },
  {
   "cell_type": "code",
   "execution_count": 7,
   "metadata": {},
   "outputs": [
    {
     "data": {
      "text/plain": [
       "['T', 'P']"
      ]
     },
     "execution_count": 7,
     "metadata": {},
     "output_type": "execute_result"
    }
   ],
   "source": [
    "poem = \"\"\"The apparition of these faces in the crowd;\n",
    "Petals on a wet, black bough.\"\"\"\n",
    "\n",
    "re.findall(r'[A-Z]',poem)\n"
   ]
  },
  {
   "cell_type": "markdown",
   "metadata": {},
   "source": [
    "In the cell below, filter the list provided and return all elements of the list containing a number. To filter the list, use the `re.search` function. Check if the function does not return `None`. You can read more about the `re.search` function [here](https://docs.python.org/3/library/re.html)."
   ]
  },
  {
   "cell_type": "code",
   "execution_count": 8,
   "metadata": {
    "scrolled": true
   },
   "outputs": [
    {
     "name": "stdout",
     "output_type": "stream",
     "text": [
      "<re.Match object; span=(0, 3), match='123'>\n",
      "<re.Match object; span=(3, 6), match='123'>\n",
      "<re.Match object; span=(9, 10), match='1'>\n",
      "<re.Match object; span=(4, 5), match='4'>\n",
      "None\n"
     ]
    }
   ],
   "source": [
    "data = ['123abc', 'abc123', 'JohnSmith1', 'ABBY4', 'JANE']\n",
    "\n",
    "\n",
    "\n",
    "print(re.search('123','123abc'))\n",
    "print(re.search('123','abc123'))\n",
    "print(re.search('1','JohnSmith1'))\n",
    "print(re.search('4','ABBY4'))\n",
    "print(re.search('1','JANE'))"
   ]
  },
  {
   "cell_type": "code",
   "execution_count": 9,
   "metadata": {},
   "outputs": [
    {
     "name": "stdout",
     "output_type": "stream",
     "text": [
      "<re.Match object; span=(0, 1), match='1'>\n",
      "<re.Match object; span=(3, 4), match='1'>\n",
      "<re.Match object; span=(9, 10), match='1'>\n",
      "<re.Match object; span=(4, 5), match='4'>\n",
      "None\n"
     ]
    }
   ],
   "source": [
    "for value in data:\n",
    "    print(re.search('\\d',value))\n",
    "    \n"
   ]
  },
  {
   "cell_type": "markdown",
   "metadata": {},
   "source": [
    "# Bonus Challenge - Regular Expressions II\n",
    "\n",
    "In the cell below, filter the list provided to keep only strings containing at least one digit and at least one lower case letter. As in the previous question, use the `re.search` function and check that the result is not `None`.\n",
    "\n",
    "To read more about regular expressions, check out [this link](https://developers.google.com/edu/python/regular-expressions)."
   ]
  },
  {
   "cell_type": "code",
   "execution_count": 10,
   "metadata": {},
   "outputs": [],
   "source": [
    "data = ['123abc', 'abc123', 'JohnSmith1', 'ABBY4', 'JANE']\n",
    "# Your code here:\n"
   ]
  }
 ],
 "metadata": {
  "kernelspec": {
   "display_name": "Python 3 (ipykernel)",
   "language": "python",
   "name": "python3"
  },
  "language_info": {
   "codemirror_mode": {
    "name": "ipython",
    "version": 3
   },
   "file_extension": ".py",
   "mimetype": "text/x-python",
   "name": "python",
   "nbconvert_exporter": "python",
   "pygments_lexer": "ipython3",
   "version": "3.10.1"
  }
 },
 "nbformat": 4,
 "nbformat_minor": 2
}
